{
 "cells": [
  {
   "cell_type": "code",
   "execution_count": 5,
   "metadata": {},
   "outputs": [],
   "source": [
    "import rosbag\n",
    "\n",
    "def list_topics(bag_file):\n",
    "    with rosbag.Bag(bag_file, 'r') as bag:\n",
    "        topics = bag.get_type_and_topic_info()[1].keys()\n",
    "        return topics\n",
    "    \n",
    "def save_topics_to_file(topics, output_file):\n",
    "    with open(output_file, 'w') as f:\n",
    "        for topic in topics:\n",
    "            f.write(topic + '\\n')"
   ]
  },
  {
   "cell_type": "code",
   "execution_count": 6,
   "metadata": {},
   "outputs": [
    {
     "name": "stdout",
     "output_type": "stream",
     "text": [
      "Available topics have been saved to topics_list.txt\n"
     ]
    }
   ],
   "source": [
    "bag_file = '../data/bags/RRT_simple.bag'\n",
    "output_file = 'topics_list.txt' \n",
    "topics = list_topics(bag_file)\n",
    "save_topics_to_file(topics, output_file)\n",
    "print(f\"Available topics have been saved to {output_file}\")"
   ]
  },
  {
   "cell_type": "code",
   "execution_count": null,
   "metadata": {},
   "outputs": [],
   "source": []
  }
 ],
 "metadata": {
  "kernelspec": {
   "display_name": "Python 3",
   "language": "python",
   "name": "python3"
  },
  "language_info": {
   "codemirror_mode": {
    "name": "ipython",
    "version": 3
   },
   "file_extension": ".py",
   "mimetype": "text/x-python",
   "name": "python",
   "nbconvert_exporter": "python",
   "pygments_lexer": "ipython3",
   "version": "3.8.10"
  }
 },
 "nbformat": 4,
 "nbformat_minor": 2
}
