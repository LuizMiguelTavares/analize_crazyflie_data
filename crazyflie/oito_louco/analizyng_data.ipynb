{
 "cells": [
  {
   "cell_type": "code",
   "execution_count": 9,
   "metadata": {},
   "outputs": [],
   "source": [
    "import pandas as pd\n",
    "import numpy as np\n",
    "import matplotlib.pyplot as plt\n",
    "\n",
    "\n",
    "LQG_data = np.array(pd.read_csv(\"LQG/LQG_data.csv\"))\n",
    "LQR_data = np.array(pd.read_csv(\"LQR/LQR_data.csv\"))\n",
    "PID_data_fail = np.array(pd.read_csv(\"PID/1-PID_fail/PID_data.csv\"))\n",
    "PID_data_sucess = np.array(pd.read_csv(\"PID/2-PID/PID_data.csv\"))\n",
    "PID_no_noise_data = np.array(pd.read_csv(\"PID_no_noise/PID_data_no_noise.csv\"))\n",
    "\n",
    "# LQG\n",
    "# [A.pPos.Xd A.pPos.X thrust thrust_feito A.pPos.dX A.pPos.Z([2 5 8]) cmd cmd_raw A.pPos.X_sujo A.pPos.T dummy_var_pose.pPos.X t_atual]\n",
    "#     1-12    13-24     25        26       27 -- 38     39 40 41     42-45  46-49     50 51 52    53-58        59 -- 70          71\n",
    "\n",
    "# PID\n",
    "# [A.pPos.Xd  A.pPos.X  thrust  thrust_feito  A.pPos.dX  A.pPos.Z([2 5 8])    cmd   cmd_raw   A.pPos.X_sujo  A.pPos.Xi  A.pPos.dXi  dummy_var_pose.pPos.X  t_atual];\n",
    "#     1-12      13-24     25         26       27 -- 38       39 40 41        42-45   46-49       50 51 52     53 54 55    56 57 58         59-70             71\n",
    "\n",
    "time_LQG = LQG_data[:, -1] \n",
    "time_LQR = LQR_data[:, -1] \n",
    "time_PID_fail = PID_data_fail[:, -1] \n",
    "time_PID_sucess = PID_data_sucess[:, -1] \n",
    "time_PID_no_noise = PID_no_noise_data[:, -1] \n",
    "\n",
    "desired_LQG = LQG_data[:,0:12] \n",
    "desired_LQR = LQR_data[:, -0:12\n",
    "desired_PID_fail = PID_data_fail[:, -0:12\n",
    "desired_PID_sucess = PID_data_sucess[:, 0:12]\n",
    "desired_PID_no_noise = PID_no_noise_data[:, 0:12]\n",
    "\n",
    "pose_LQG = LQG_data[:,58:6] \n",
    "desired_LQR = LQR_data[:58:69\n",
    "desired_PID_fail = PID_data_fail[:58:69\n",
    "desired_PID_sucess = PID_data_sucess[:58:9\n",
    "desired_PID_no_noise = PID_no_noise_data[:58:9\n",
    "\n",
    "\n",
    "# # Load the data from CSV files\n",
    "# time_LQG = pd.read_csv(time_LQG)\n",
    "# desired_position_LQG = pd.read_csv(desired_position_path)\n",
    "# position_optitrack_LQG = pd.read_csv(position_optitrack_path)\n",
    "# position_kalman_LQG = pd.read_csv(position_kalman_path)\n",
    "# position_gaussian_error_LQG = pd.read_csv(position_gaussian_error_path)\n",
    "# desired_velocity_LQG = pd.read_csv(desired_velocity_path)\n",
    "# vel_optitrack_LQG = pd.read_csv(vel_optitrack_path)\n",
    "# vel_kalman_LQG = pd.read_csv(vel_kalman_path)\n",
    "# vel_crazyflie_LQG = pd.read_csv(vel_crazyflie_path)\n",
    "\n",
    "# orientation_optitrack_LQG = pd.read_csv(orientation_optitrack_path)\n",
    "# yaw_crazyflie_LQG = pd.read_csv(yaw_angle_crazyflie_path)\n",
    "\n",
    "# # Tranforming the data into numpy arrays\n",
    "# time_LQG = time_LQG.values\n",
    "# desired_position_LQG = desired_position_LQG.values\n",
    "# position_optitrack_LQG = position_optitrack_LQG.values\n",
    "# position_kalman_LQG = position_kalman_LQG.values\n",
    "# position_gaussian_error_LQG = position_gaussian_error_LQG.values\n",
    "# desired_velocity_LQG = desired_velocity_LQG.values\n",
    "# vel_optitrack_world_LQG = vel_optitrack_LQG.values\n",
    "# vel_kalman_body_LQG = vel_kalman_LQG.values\n",
    "# vel_crazyflie_world_LQG = vel_crazyflie_LQG.values\n",
    "# orientation_optitrack_LQG = orientation_optitrack_LQG.values\n",
    "# yaw_crazyflie_LQG = np.deg2rad(yaw_crazyflie_LQG.values)\n",
    "\n",
    "# ### Limit the data to a specific time\n",
    "# if cut_data:\n",
    "#     start = 5\n",
    "#     end = 65\n",
    "    \n",
    "#     ##################### LQR #####################\n",
    "#     len_time_LQR = len(time_LQR)\n",
    "#     max_time_LQR = time_LQR[len_time_LQR-1]\n",
    "\n",
    "#     start_index_LQR = int(start*len_time_LQR/max_time_LQR)\n",
    "#     end_index_LQR = int(end*len_time_LQR/max_time_LQR)\n",
    "\n",
    "#     time_LQR = np.array(time_LQR[start_index_LQR:end_index_LQR])\n",
    "#     desired_position_LQR = np.array(desired_position_LQR[start_index_LQR:end_index_LQR])\n",
    "#     position_kalman_LQR = np.array(position_kalman_LQR[start_index_LQR:end_index_LQR])\n",
    "#     position_optitrack_LQR = np.array(position_optitrack_LQR[start_index_LQR:end_index_LQR])\n",
    "#     position_gaussian_error_LQR = np.array(position_gaussian_error_LQR[start_index_LQR:end_index_LQR])\n",
    "\n",
    "#     ##################### LQG #####################\n",
    "\n",
    "#     start_index_LQG = start_index_LQR\n",
    "#     end_index_LQG = end_index_LQR\n",
    "\n",
    "#     time_LQG = np.array(time_LQG[start_index_LQG:end_index_LQG])\n",
    "#     desired_position_LQG = np.array(desired_position_LQG[start_index_LQG:end_index_LQG])\n",
    "#     position_kalman_LQG = np.array(position_kalman_LQG[start_index_LQG:end_index_LQG])\n",
    "#     position_optitrack_LQG = np.array(position_optitrack_LQG[start_index_LQG:end_index_LQG])\n",
    "#     position_gaussian_error_LQG = np.array(position_gaussian_error_LQG[start_index_LQG:end_index_LQG])"
   ]
  },
  {
   "cell_type": "code",
   "execution_count": 8,
   "metadata": {},
   "outputs": [
    {
     "data": {
      "text/plain": [
       "array([7.54588000e-02, 9.54900000e-02, 1.15520200e-01, ...,\n",
       "       7.72278918e+01, 7.72478932e+01, 7.72678951e+01])"
      ]
     },
     "execution_count": 8,
     "metadata": {},
     "output_type": "execute_result"
    }
   ],
   "source": [
    "time_LQG"
   ]
  },
  {
   "cell_type": "code",
   "execution_count": 3,
   "metadata": {},
   "outputs": [
    {
     "data": {
      "text/plain": [
       "(3860, 71)"
      ]
     },
     "execution_count": 3,
     "metadata": {},
     "output_type": "execute_result"
    }
   ],
   "source": [
    "LQG_data.shape"
   ]
  }
 ],
 "metadata": {
  "kernelspec": {
   "display_name": ".venv",
   "language": "python",
   "name": "python3"
  },
  "language_info": {
   "codemirror_mode": {
    "name": "ipython",
    "version": 3
   },
   "file_extension": ".py",
   "mimetype": "text/x-python",
   "name": "python",
   "nbconvert_exporter": "python",
   "pygments_lexer": "ipython3",
   "version": "3.8.10"
  }
 },
 "nbformat": 4,
 "nbformat_minor": 2
}
